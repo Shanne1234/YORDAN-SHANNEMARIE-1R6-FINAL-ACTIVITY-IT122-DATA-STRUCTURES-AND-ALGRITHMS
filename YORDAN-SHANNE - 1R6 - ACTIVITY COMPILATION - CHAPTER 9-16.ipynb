{
 "cells": [
  {
   "cell_type": "code",
   "execution_count": 3,
   "id": "3e0c172d",
   "metadata": {},
   "outputs": [
    {
     "name": "stdout",
     "output_type": "stream",
     "text": [
      "Chapter 9\n",
      "\n",
      "Graphs are used to solve many real-life problems. Graphs are used to represent networks. The networks may include paths in a city or telephone network or circuit network. Graphs are also used in social networks like linkedIn, Facebook. For example, in Facebook, each person is represented with a vertex(or node). Each node is a structure and contains information like person id, name, gender, locale etc.\n",
      "A graph G consists of two types of elements: vertices and edges.\n",
      "The vertex set of G is denoted V(G), or just V if there is no ambiguity.An edge between vertices u and v is written as {u, v}. The edge set of G is denoted E(G), or just E if there is no ambiguityThe graph in this picture has the vertex set V = {1, 2, 3, 4, 5, 6}. The edge set E = {{1, 2}, {1, 5}, {2, 3}, {2, 5}, {3, 4}, {4, 5}, {4, 6}}.\n",
      "Multiple edges are two or more edges that join the same two vertices.A graph is called simple if it has no self-loops and no multiple edges, and a multigraph if it does have multiple edges.The degree of a vertex v is the number of edges that connect to v.A path in a graph G = (V, E) is a sequence of vertices v1, v2, …, vk, with the property that there are edges between vi and vi+1. We say that the path goes from v1 to vk. The sequence 6, 4, 5, 1, 2 is a path from 6 to 2 in the graph above. A path is simple if its vertices are all different.A cycle is a path v1, v2, …, vk for which k > 2, the first k - 1 vertices are all different, and v1 = vk. The sequence 4, 5, 2, 3, 4 is a cycle in the graph above.\n",
      "A graph is connected if for every pair of vertices u and v, there is a path from u to v.If there is a path connecting u and v, the distance between these vertices is defined as the minimal number of edges on a path from u to v.A connected component is a subgraph of maximum size, in which every pair of vertices are connected by a path. Here is a graph with three connected components.\n",
      "Trees A tree is a connected simple acyclic graph. A vertex with degree 1 in a tree is called a leaf.Directed graphsA directed graph or digraph G = (V, E) consists of a vertex set V and an edge set of ordered pairs E of elements in the vertex set.Here is a simple acyclic digraph (often called a DAG, “directed acyclic graph”) with seven vertices and eight edges.\n",
      "Data structures Adjacency matrix An adjacency matrix is a |V|x|V|-matrix of integers, representing a graph G = (V, E). •\tThe vertices are number from 1 to |V|. •\tThe number at position (i, j) indicates the number of edges from i to j.\n",
      "\n",
      "\n",
      "\n"
     ]
    }
   ],
   "source": [
    "print('Chapter 9')\n",
    "print('')\n",
    "\n",
    "print('Graphs are used to solve many real-life problems. Graphs are used to represent networks. The networks may include paths in a city or telephone network or circuit network. Graphs are also used in social networks like linkedIn, Facebook. For example, in Facebook, each person is represented with a vertex(or node). Each node is a structure and contains information like person id, name, gender, locale etc.')\n",
    "print('A graph G consists of two types of elements: vertices and edges.')\n",
    "print('The vertex set of G is denoted V(G), or just V if there is no ambiguity.An edge between vertices u and v is written as {u, v}. The edge set of G is denoted E(G), or just E if there is no ambiguityThe graph in this picture has the vertex set V = {1, 2, 3, 4, 5, 6}. The edge set E = {{1, 2}, {1, 5}, {2, 3}, {2, 5}, {3, 4}, {4, 5}, {4, 6}}.')\n",
    "print('Multiple edges are two or more edges that join the same two vertices.A graph is called simple if it has no self-loops and no multiple edges, and a multigraph if it does have multiple edges.The degree of a vertex v is the number of edges that connect to v.A path in a graph G = (V, E) is a sequence of vertices v1, v2, …, vk, with the property that there are edges between vi and vi+1. We say that the path goes from v1 to vk. The sequence 6, 4, 5, 1, 2 is a path from 6 to 2 in the graph above. A path is simple if its vertices are all different.A cycle is a path v1, v2, …, vk for which k > 2, the first k - 1 vertices are all different, and v1 = vk. The sequence 4, 5, 2, 3, 4 is a cycle in the graph above.')\n",
    "print('A graph is connected if for every pair of vertices u and v, there is a path from u to v.If there is a path connecting u and v, the distance between these vertices is defined as the minimal number of edges on a path from u to v.A connected component is a subgraph of maximum size, in which every pair of vertices are connected by a path. Here is a graph with three connected components.')\n",
    "print('Trees A tree is a connected simple acyclic graph. A vertex with degree 1 in a tree is called a leaf.Directed graphsA directed graph or digraph G = (V, E) consists of a vertex set V and an edge set of ordered pairs E of elements in the vertex set.Here is a simple acyclic digraph (often called a DAG, “directed acyclic graph”) with seven vertices and eight edges.')\n",
    "print('Data structures Adjacency matrix An adjacency matrix is a |V|x|V|-matrix of integers, representing a graph G = (V, E). •\tThe vertices are number from 1 to |V|. •\tThe number at position (i, j) indicates the number of edges from i to j.')\n",
    "print('')\n",
    "print('')\n",
    "print('')"
   ]
  },
  {
   "cell_type": "code",
   "execution_count": 4,
   "id": "b0fa8dca",
   "metadata": {},
   "outputs": [
    {
     "name": "stdout",
     "output_type": "stream",
     "text": [
      "Chapter 10\n",
      "This search algorithm works on the principle of divide and conquer. For this algorithm to work properly, the data collection should be in the sorted form.Binary search looks for a particular item by comparing the middle most item of the collection. If a match occurs, then the index of item is returned. If the middle item is greater than the item, then the item is searched in the sub-array to the left of the middle item. Otherwise, the item is searched for in the sub-array to the right of the middle item. This process continues on the sub-array as well until the size of the subarray reduces to zero.The analysis of a binary search is not the same as that of linear search because the loop of a binary search does not follow the pattern of going from the start of the array all the way to the end. It starts in the middle of an array and jump around. Not every element will be considered during the search process so this will be a bit different.\n",
      "A binary search can only be done to lists if two criteria are true:1.\tthe list must be sorted2.\t3.\taccess to any element given its position must have a constant run time. 4.\ttemplate <class TYPE>int binarySearch(const vector<TYPE>& arr, const TYPE& key){ int rc=-1;  int low=0; int high=arr.size()-1; int mid; while(low<=high && rc==-1){    mid=(low+high)/2;    if(key < arr[mid])      high=mid-1;  else if(key > arr[mid] )      low=mid+1;  else      rc=mid;  }/*while*/  return rc;}\n",
      "In the above code, there are two variables low and high. These represent the first and last index of the elements where key may be located. In other words, the only possible places key may exist is somewhere between arr[low] and arr[high] inclusive. In each iteration of the while loop we check the middle element between them. If key is bigger, we move the low marker one element after the middle one. In other words we eliminate half of the remaining possibilities of key location after each iteration of the while loop. We stop when we either find it or we have eliminated all possible locations for key.\n",
      "\n",
      "\n"
     ]
    }
   ],
   "source": [
    "print('Chapter 10')\n",
    "print('This search algorithm works on the principle of divide and conquer. For this algorithm to work properly, the data collection should be in the sorted form.Binary search looks for a particular item by comparing the middle most item of the collection. If a match occurs, then the index of item is returned. If the middle item is greater than the item, then the item is searched in the sub-array to the left of the middle item. Otherwise, the item is searched for in the sub-array to the right of the middle item. This process continues on the sub-array as well until the size of the subarray reduces to zero.The analysis of a binary search is not the same as that of linear search because the loop of a binary search does not follow the pattern of going from the start of the array all the way to the end. It starts in the middle of an array and jump around. Not every element will be considered during the search process so this will be a bit different.')\n",
    "print('A binary search can only be done to lists if two criteria are true:1.\tthe list must be sorted2.\t3.\taccess to any element given its position must have a constant run time. 4.\ttemplate <class TYPE>int binarySearch(const vector<TYPE>& arr, const TYPE& key){ int rc=-1;  int low=0; int high=arr.size()-1; int mid; while(low<=high && rc==-1){    mid=(low+high)/2;    if(key < arr[mid])      high=mid-1;  else if(key > arr[mid] )      low=mid+1;  else      rc=mid;  }/*while*/  return rc;}')\n",
    "print('In the above code, there are two variables low and high. These represent the first and last index of the elements where key may be located. In other words, the only possible places key may exist is somewhere between arr[low] and arr[high] inclusive. In each iteration of the while loop we check the middle element between them. If key is bigger, we move the low marker one element after the middle one. In other words we eliminate half of the remaining possibilities of key location after each iteration of the while loop. We stop when we either find it or we have eliminated all possible locations for key.')\n",
    "print('')\n",
    "print('')"
   ]
  },
  {
   "cell_type": "code",
   "execution_count": 16,
   "id": "047690cb",
   "metadata": {},
   "outputs": [
    {
     "name": "stdout",
     "output_type": "stream",
     "text": [
      "Chapter 11\n",
      "\n",
      "To ease-out the issue, we use one flag variable swapped which will help us see if any swap has happened or not. If no swap has occurred, i.e. the array requires no more processing to be sorted, it will come out of the loop.Bubble Sort is a simple algorithm which is used to sort a given set of n elements provided in form of an array with n number of elements. Bubble Sort compares all the element one by one and sort them based on their values.If the given array has to be sorted in ascending order, then bubble sort will start by comparing the first element of the array with the second element, if the first element is greater than the second element, it will swap both the elements, and then move on to compare the second and the third element, and so on.If we have total n elements, then we need to repeat this process for n-1 times.It is known as bubble sort, because with every complete iteration the largest element in the given array, bubbles up towards the last place or the highest index, just like a water bubble rises up to the water surface.Sorting takes place by stepping through all the elements one-by-one and comparing it with the adjacent element and swapping them if required.NOTE: If you are not familiar with Sorting in data structure, you should first learn what is sorting to know about the basics of sorting.\n",
      "Implementing Bubble Sort AlgorithmFollowing are the steps involved in bubble sort(for sorting a given array in ascending order):1.\tStarting with the first element(index = 0), compare the current element with the next element of the array.2.\tIf the current element is greater than the next element of the array, swap them.3.\tIf the current element is less than the next element, move to the next element.\n",
      "\n",
      "\n"
     ]
    }
   ],
   "source": [
    "print('Chapter 11')\n",
    "print('')\n",
    "print('To ease-out the issue, we use one flag variable swapped which will help us see if any swap has happened or not. If no swap has occurred, i.e. the array requires no more processing to be sorted, it will come out of the loop.Bubble Sort is a simple algorithm which is used to sort a given set of n elements provided in form of an array with n number of elements. Bubble Sort compares all the element one by one and sort them based on their values.If the given array has to be sorted in ascending order, then bubble sort will start by comparing the first element of the array with the second element, if the first element is greater than the second element, it will swap both the elements, and then move on to compare the second and the third element, and so on.If we have total n elements, then we need to repeat this process for n-1 times.It is known as bubble sort, because with every complete iteration the largest element in the given array, bubbles up towards the last place or the highest index, just like a water bubble rises up to the water surface.Sorting takes place by stepping through all the elements one-by-one and comparing it with the adjacent element and swapping them if required.NOTE: If you are not familiar with Sorting in data structure, you should first learn what is sorting to know about the basics of sorting.')\n",
    "print('Implementing Bubble Sort AlgorithmFollowing are the steps involved in bubble sort(for sorting a given array in ascending order):1.\tStarting with the first element(index = 0), compare the current element with the next element of the array.2.\tIf the current element is greater than the next element of the array, swap them.3.\tIf the current element is less than the next element, move to the next element.')\n",
    "print('')\n",
    "print('')\n",
    "\n",
    "\n"
   ]
  },
  {
   "cell_type": "code",
   "execution_count": 15,
   "id": "42f1ce54",
   "metadata": {},
   "outputs": [
    {
     "name": "stdout",
     "output_type": "stream",
     "text": [
      "Chapter 12\n",
      "\n",
      "Quick Sort is one of the different Sorting Technique which is based on the concept of Divide and Conquer, just like merge sort. But in quick sort all the heavy lifting(major work) is done while dividing the array into subarrays, while in case of merge sort, all the real work happens during merging the subarrays. In case of quick sort, the combine step does absolutely nothing.It is also called partition-exchange sort. This algorithm divides the list into three main parts:1.\tElements less than the Pivot element2.\tPivot element(Central element)3.\tElements greater than the pivot elementPivot element can be any element from the array, it can be the first element, the last element or any random element. In this tutorial, we will take the rightmost element or the last element as pivot.For example: In the array {52, 37, 63, 14, 17, 8, 6, 25}, we take 25 as pivot. So after the first pass, the list will be changed like this.{6 8 17 14 25 63 37 52}Hence after the first pass, pivot will be set at its position, with all the elements smaller to it on its left and all the elements larger than to its right. Now 6 8 17 14 and 63 37 52 are considered as two separate sunarrays, and same recursive logic will be applied on them, and we will keep doing this until the complete array is sorted.\n",
      "How Quick Sorting Works? Following are the steps involved in quick sort algorithm:1.\tAfter selecting an element as pivot, which is the last index of the array in our case, we divide the array for the first time.2.\tIn quick sort, we call this partitioning. It is not simple breaking down of array into 2 subarrays, but in case of partitioning, the array elements are so positioned that all the elements smaller than the pivot will be on the left side of the pivot and all the elements greater than the pivot will be on the right side of it.3.\tAnd the pivot element will be at its final sorted position.4.\tThe elements to the left and right, may not be sorted..\tThen we pick sub arrays, elements on the left of pivot and elements on the right of pivot, and we perform partitioning on them by choosing a pivot in the subarrays.Lets consider an array with values {9, 7, 5, 11, 12, 2, 14, 3, 10, 6}\n",
      "\n"
     ]
    }
   ],
   "source": [
    "print('Chapter 12')\n",
    "print('')\n",
    "print('Quick Sort is one of the different Sorting Technique which is based on the concept of Divide and Conquer, just like merge sort. But in quick sort all the heavy lifting(major work) is done while dividing the array into subarrays, while in case of merge sort, all the real work happens during merging the subarrays. In case of quick sort, the combine step does absolutely nothing.It is also called partition-exchange sort. This algorithm divides the list into three main parts:1.\tElements less than the Pivot element2.\tPivot element(Central element)3.\tElements greater than the pivot elementPivot element can be any element from the array, it can be the first element, the last element or any random element. In this tutorial, we will take the rightmost element or the last element as pivot.For example: In the array {52, 37, 63, 14, 17, 8, 6, 25}, we take 25 as pivot. So after the first pass, the list will be changed like this.{6 8 17 14 25 63 37 52}Hence after the first pass, pivot will be set at its position, with all the elements smaller to it on its left and all the elements larger than to its right. Now 6 8 17 14 and 63 37 52 are considered as two separate sunarrays, and same recursive logic will be applied on them, and we will keep doing this until the complete array is sorted.')\n",
    "print('How Quick Sorting Works? Following are the steps involved in quick sort algorithm:1.\tAfter selecting an element as pivot, which is the last index of the array in our case, we divide the array for the first time.2.\tIn quick sort, we call this partitioning. It is not simple breaking down of array into 2 subarrays, but in case of partitioning, the array elements are so positioned that all the elements smaller than the pivot will be on the left side of the pivot and all the elements greater than the pivot will be on the right side of it.3.\tAnd the pivot element will be at its final sorted position.4.\tThe elements to the left and right, may not be sorted..\tThen we pick sub arrays, elements on the left of pivot and elements on the right of pivot, and we perform partitioning on them by choosing a pivot in the subarrays.Lets consider an array with values {9, 7, 5, 11, 12, 2, 14, 3, 10, 6}')\n",
    "print('')\n"
   ]
  },
  {
   "cell_type": "code",
   "execution_count": 1,
   "id": "076eff3a",
   "metadata": {},
   "outputs": [
    {
     "name": "stdout",
     "output_type": "stream",
     "text": [
      "Chapter 13\n",
      "\n",
      "This process goes on until all the unsorted values are covered in a sorted sub-list. Now we shall see some programming aspects of insertion sort.Insertion sort is a simple sorting algorithm that builds the final sorted array one item at a time. This algorithm is a simple technique that is easy to understand and implement. The steps done by this algorithm are an iterative solution of how a complex problem can be solved by repeatedly executing very simple steps. To understand how the insertion sort works, imagine that you have a couple of cards in one hand and you need to put them in order of their rank. One way to do it is to make sure cards on the left side in your have been sorted. Then pick up the third card (which is first not sorted) and place it on proper order among the first two cards. At any point in this process, we have two parts, the left part which is sorted and the right part which is not sorted. After each round of insertions, the sorted part grows longer, and the algorithm stops when the last card has been placed where it belongs and the entire hand is sorted.The best case input about the insertion sort algorithm is when the list is already sorted, which has a linear running time (i.e., O(n)). The worst-case input is when the list is sorted in reverse order, this gives us a quadratic running time (i.e., O(n2)). The average case is also quadratic, which puts insertion sort not very useful for sorting large lists. However, insertion sort is one of the fastest algorithms for sorting very small lists. For a given list with n size of items, the best case is when the value is equal to the first element of the list, in which case only one comparison is needed. The worst case is when the value is not in the list or occurs only once at the end of the list, in which case n comparisons are needed.\n"
     ]
    }
   ],
   "source": [
    "print('Chapter 13')\n",
    "print('')\n",
    "print('This process goes on until all the unsorted values are covered in a sorted sub-list. This algorithm is a simple technique that is easy to understand and implement. The steps done by this algorithm are an iterative solution of how a complex problem can be solved by repeatedly executing very simple steps. To understand how the insertion sort works, imagine that you have a couple of cards in one hand and you need to put them in order of their rank. One way to do it is to make sure cards on the left side in your have been sorted. Then pick up the third card (which is first not sorted) and place it on proper order among the first two cards. At any point in this process, we have two parts, the left part which is sorted and the right part which is not sorted. After each round of insertions, the sorted part grows longer, and the algorithm stops when the last card has been placed where it belongs and the entire hand is sorted.The best case input about the insertion sort algorithm is when the list is already sorted, which has a linear running time (i.e., O(n)). The worst-case input is when the list is sorted in reverse order, this gives us a quadratic running time (i.e., O(n2)). The average case is also quadratic, which puts insertion sort not very useful for sorting large lists. However, insertion sort is one of the fastest algorithms for sorting very small lists. For a given list with n size of items, the best case is when the value is equal to the first element of the list, in which case only one comparison is needed. ')"
   ]
  },
  {
   "cell_type": "code",
   "execution_count": 14,
   "id": "7309f7e2",
   "metadata": {},
   "outputs": [
    {
     "name": "stdout",
     "output_type": "stream",
     "text": [
      "Chapter 14\n",
      "\n",
      "Merge sort first divides the array into equal halves and then combines them in a sorted manner.\n",
      "How Merge Sort Works?To understand merge sort, we take an unsorted array as the following −We know that merge sort first divides the whole array iteratively into equal halves unless the atomic values are achieved. We see here that an array of 8 items is divided into two arrays of size 4.This does not change the sequence of appearance of items in the original. Now we divide these two arrays into halves.We further divide these arrays and we achieve atomic value which can no more be divided.Now, we combine them in exactly the same manner as they were broken down. Please note the color codes given to these lists.We first compare the element for each list and then combine them into another list in a sorted manner. We see that 14 and 33 are in sorted positions. We compare 27 and 10 and in the target list of 2 values we put 10 first, followed by 27. We change the order of 19 and 35 whereas 42 and 44 are placed sequentially.In the next iteration of the combining phase, we compare lists of two data values, and merge them into a list of found data values placing all in a sorted order.\n"
     ]
    }
   ],
   "source": [
    "print('Chapter 14')\n",
    "print('')\n",
    "print('Merge sort first divides the array into equal halves and then combines them in a sorted manner.')\n",
    "print('How Merge Sort Works?To understand merge sort, we take an unsorted array as the following −We know that merge sort first divides the whole array iteratively into equal halves unless the atomic values are achieved. We see here that an array of 8 items is divided into two arrays of size 4.This does not change the sequence of appearance of items in the original. Now we divide these two arrays into halves.We further divide these arrays and we achieve atomic value which can no more be divided.Now, we combine them in exactly the same manner as they were broken down. Please note the color codes given to these lists.We first compare the element for each list and then combine them into another list in a sorted manner. We see that 14 and 33 are in sorted positions. We compare 27 and 10 and in the target list of 2 values we put 10 first, followed by 27. We change the order of 19 and 35 whereas 42 and 44 are placed sequentially.In the next iteration of the combining phase, we compare lists of two data values, and merge them into a list of found data values placing all in a sorted order.')\n"
   ]
  },
  {
   "cell_type": "code",
   "execution_count": 13,
   "id": "e3be321b",
   "metadata": {},
   "outputs": [
    {
     "name": "stdout",
     "output_type": "stream",
     "text": [
      "Chapter 15\n",
      "Shell sort is a highly efficient sorting algorithm and is based on insertion sort algorithm. This algorithm avoids large shifts as in case of insertion sort, if the smaller value is to the far right and has to be moved to the far left.This algorithm uses insertion sort on a widely spread elements, first to sort them and then sorts the less widely spaced elements. A highly efficient sorting algorithm based on the insertion sort algorithm is known as Shell Sort. The large shifts as that of insertion sort are avoided, if in case, the smaller value is far right and which has to be moved to far left.The insertion sort is used on wide spread elements, to sort them and then sort the less widely spaced elements. The spacing is known as interval.\n",
      "Shell sort algorithm is also known as Shells method algorithm which is the variation of insertion sort algorithm. Shell sort algorithm is an improved form of insertion sort algorithm as it compares elements separated by a gap of several position. In Shell sort algorithm, the elements in an array are sorted in multiple passes and in each pass, data are taken with smaller and smaller gap sizes. However, the finale of shell sort algorithm is a plain insertion sort algorithm. But the time we reach the last part, the elements in an array are already sorted, thus Shell sort algorithm provides better performance.\n"
     ]
    }
   ],
   "source": [
    "print('Chapter 15')\n",
    "print('Shell sort is a highly efficient sorting algorithm and is based on insertion sort algorithm. This algorithm avoids large shifts as in case of insertion sort, if the smaller value is to the far right and has to be moved to the far left.This algorithm uses insertion sort on a widely spread elements, first to sort them and then sorts the less widely spaced elements. A highly efficient sorting algorithm based on the insertion sort algorithm is known as Shell Sort. The large shifts as that of insertion sort are avoided, if in case, the smaller value is far right and which has to be moved to far left.The insertion sort is used on wide spread elements, to sort them and then sort the less widely spaced elements. The spacing is known as interval.')\n",
    "print('Shell sort algorithm is also known as Shells method algorithm which is the variation of insertion sort algorithm. Shell sort algorithm is an improved form of insertion sort algorithm as it compares elements separated by a gap of several position. In Shell sort algorithm, the elements in an array are sorted in multiple passes and in each pass, data are taken with smaller and smaller gap sizes. However, the finale of shell sort algorithm is a plain insertion sort algorithm. But the time we reach the last part, the elements in an array are already sorted, thus Shell sort algorithm provides better performance.')\n"
   ]
  },
  {
   "cell_type": "code",
   "execution_count": 12,
   "id": "7a910d0f",
   "metadata": {},
   "outputs": [
    {
     "name": "stdout",
     "output_type": "stream",
     "text": [
      "Chapter 16\n",
      "Selection Sort Algorithm is one of the easiest sorting algorithms in Data Structures. It is a comparison-based sorting algorithm. It is used to arrange the elements of an array (in ascending order). In this article, we’re going to see how we can implement selection sort in data structures using the Python programming language.INPUT Array     –  16   12   96   42   21OUTPUT Array –  12   16   21   42   96\n",
      "In Selection Sort, the given array is divided into two parts – the sorted part and the unsorted part. The sorted part is at the left end of the array and the unsorted part is at the right end of the array respectively.At the beginning of the algorithm, the sorted part is completely empty and the unsorted part consists of the whole array. But as algo proceeds, the elements that are being sorted becomes a part of the sorted array, and the remaining subarray comes under the unsorted part.In this sorting algorithm, with every passing iteration, the least valued or the minimum element from the unsorted array is selected, using the linear search technique after that the selected element is swapped with the first element of that array. The new element added at the beginning becomes a part of the sorted array.\n"
     ]
    }
   ],
   "source": [
    "print('Chapter 16')\n",
    "print('Selection Sort Algorithm is one of the easiest sorting algorithms in Data Structures. It is a comparison-based sorting algorithm. It is used to arrange the elements of an array (in ascending order). In this article, we’re going to see how we can implement selection sort in data structures using the Python programming language.INPUT Array     –  16   12   96   42   21OUTPUT Array –  12   16   21   42   96')\n",
    "print('In Selection Sort, the given array is divided into two parts – the sorted part and the unsorted part. The sorted part is at the left end of the array and the unsorted part is at the right end of the array respectively.At the beginning of the algorithm, the sorted part is completely empty and the unsorted part consists of the whole array. But as algo proceeds, the elements that are being sorted becomes a part of the sorted array, and the remaining subarray comes under the unsorted part.In this sorting algorithm, with every passing iteration, the least valued or the minimum element from the unsorted array is selected, using the linear search technique after that the selected element is swapped with the first element of that array. The new element added at the beginning becomes a part of the sorted array.')\n"
   ]
  },
  {
   "cell_type": "code",
   "execution_count": 18,
   "id": "fc73a2f4",
   "metadata": {},
   "outputs": [
    {
     "name": "stdout",
     "output_type": "stream",
     "text": [
      " II Answer the following questions:\n",
      "\n",
      "1. Implement the simple methods get_num and get_den that will return the numerator and denominator of a fraction.\n",
      "\n",
      "Ans: def getNum(self): return self.num def getDen(self): return self.den\n",
      "\n",
      "2. Research the __radd__ method. How does it differ from __add__? When is it used? Implement __radd__\n",
      "\n",
      "Ans: def __radd__(self, other): if other == 0: return self else: other = Fraction(other, 1) return self.__add__(other)\n",
      "\n",
      "3. Research the __repr__ method. How does it differ from __str__? When is it used? Implement __repr__.\n",
      "\n",
      "Ans:def __repr__(self): return %s(%r) % (self.__class__, self.__str__()) def show(self): print(self.num, \"/\", self.den) \n",
      "\n",
      "4. The most simple arithmetic circuit is known as the half adder. Research the simple half-adder circuit. Implement this circuit.\n",
      "\n",
      "Ans: Half adder is a combinational circuit, which performs the addition of two binary numbers A and B are of single bit. It produces two outputs sum, S & carry, C. The Truth table of Half adder is shown below. Inputs Outputs A B C S 0 0 0 0 0 1 0 1 1 0 0 1 1 1 1 0\n",
      "\n",
      "5.Design a class to represent a playing card and another one to represent a deck of cards. Using these two classes, implement your favorite card game. \n",
      "\n",
      "Ans: When you initialize the Deck object, the two for loops of _init_ create Card objects representing all the cards in a 52-card deck and add them to the card list. The first loop goes from 2 to 15 because the first value of a card is 2 and the last value of a card is 14 (the ace). Each time around the inner loop, a new card is created using the integer from the outer loop as the value (i.e. 14 for an ace) and the integer from the inner loop as the suit. This process creates 52 cards – one card for each combination of suit and value. After the method creates the cards, the shuffle method of the shuffle module randomly rearranges the items in the card list; imitating the shuffle of a deck of cards. Our deck has another method called rm_card which removes and returns a card from the card list, or returns None if it is empty.\n",
      "\n",
      "7.Consider a real life situation. Formulate a question and then design a simulation that can help to answer it. Possible situations include:Cars lined up at a car washCustomers at a grocery store check-outAirplanes taking off and landing on a runwayA bank teller \n",
      "\n",
      "8.Implement a queue using linked lists.\n",
      "\n",
      " Ans: A linked list (LL) node # to store a queue entry class Node: def __init__(self, data): self.data = data self.next = None # A class to represent a queue # The queue, front stores the front node # of LL and rear stores the last node of LL class Queue: def __init__(self): self.front = self.rear = None def isEmpty(self): return self.front == None # Method to add an item to the queue def EnQueue(self, item): temp = Node(item) if self.rear == None: self.front = self.rear = temp return self.rear.next = temp self.rear = temp # Method to remove an item from queue def DeQueue(self): if self.isEmpty(): return temp = self.front self.front = temp.next if(self.front == None): self.rear = None # Driver Code if _name__== : q = Queue() q.EnQueue(10) q.EnQueue(20) q.DeQueue() q.DeQueue() q.EnQueue(30) q.EnQueue(40) q.EnQueue(50) q.DeQueue() print(\"Queue Front \" + str(q.front.data)) print\"Queue Rear \" + str(q.rear.data))\n",
      "\n",
      "9. Write a recursive function to compute the factorial of a number.\n",
      "\n",
      "Ans: def recur_factorial(n): if n == 1: return n else: return n*recur_factorial(n-1) num = 7 # check if the number is negative if num < 0: print(\"Sorry, factorial does not exist for negative numbers\") elif num == 0: print(\"The factorial of 0 is 1\") else: print(\"The factorial of\", num, \"is\", recur_factorial(num))\n",
      "\n",
      "10. Set up a random experiment to test the difference between a sequential search and a binary search on a list of integers.\n",
      "\n",
      "Ans:.\tWe toss a coin three times and observe the sequence of heads/tails. The sample space here may be defined as S={(H,H,H),(H,H,T),(H,T,H),(T,H,H),(H,T,T),(T,H,T),(T,T,H),(T,T,T)}. Our goal is to assign probability to certain events. For example, suppose that we would like to know the probability that the outcome of rolling a fair die is an even number. In this case, our event is the set E={2,4,6}. If the result of our random experiment belongs to the set E, we say that the event E has occurred. Thus an event is a collection of possible outcomes. In other words, an event is a subset of the sample space to which we assign a probability. Although we have not yet discussed how to find the probability of an event, you might be able to guess that the probability of {2,4,6} is 50 percent which is the same as 12 in the probability theory convention. Outcome: A result of a random experiment. Sample Space: The set of all possible outcomes. Event: A subset of the sample space.\n",
      "\n",
      "11.Suppose you are a computer scientist/art thief who has broken into a major art gallery. All you have with you to haul out your stolen art is your knapsack which only holds W pounds of art, but for every piece of art you know its value and its weight. Write a dynamic programming function to help you maximize your profit. Here is a sample problem for you to use to get started: Suppose your knapsack can hold a total weight of 20. You have 5 items as follows: \n",
      "\n",
      "This problem is called the string edit distance problem, and is quite useful in many areas of research. Suppose that you want to transform the word “algorithm” into the word “alligator.” For each letter you can either copy the letter from one word to another at a cost of 5, you can delete a letter at cost of 20, or insert a letter at a cost of 20. The total cost to transform one word into another is used by spell check programs to provide suggestions for words that are close to one another.\n"
     ]
    }
   ],
   "source": [
    "print(' II Answer the following questions:')\n",
    "print('')\n",
    "print('1. Implement the simple methods get_num and get_den that will return the numerator and denominator of a fraction.')\n",
    "print('')\n",
    "print('Ans: def getNum(self): return self.num def getDen(self): return self.den')\n",
    "print('')\n",
    "print('2. Research the __radd__ method. How does it differ from __add__? When is it used? Implement __radd__')\n",
    "print('')\n",
    "print('Ans: def __radd__(self, other): if other == 0: return self else: other = Fraction(other, 1) return self.__add__(other)')\n",
    "print('')\n",
    "print('3. Research the __repr__ method. How does it differ from __str__? When is it used? Implement __repr__.')\n",
    "print('')\n",
    "print('Ans:def __repr__(self): return %s(%r) % (self.__class__, self.__str__()) def show(self): print(self.num, \"/\", self.den) ')\n",
    "print('')\n",
    "print('4. The most simple arithmetic circuit is known as the half adder. Research the simple half-adder circuit. Implement this circuit.')\n",
    "print('')\n",
    "print('Ans: Half adder is a combinational circuit, which performs the addition of two binary numbers A and B are of single bit. It produces two outputs sum, S & carry, C. The Truth table of Half adder is shown below. Inputs Outputs A B C S 0 0 0 0 0 1 0 1 1 0 0 1 1 1 1 0')\n",
    "print('')\n",
    "print('5.Design a class to represent a playing card and another one to represent a deck of cards. Using these two classes, implement your favorite card game. ')\n",
    "print('')\n",
    "print('Ans: When you initialize the Deck object, the two for loops of _init_ create Card objects representing all the cards in a 52-card deck and add them to the card list. The first loop goes from 2 to 15 because the first value of a card is 2 and the last value of a card is 14 (the ace). Each time around the inner loop, a new card is created using the integer from the outer loop as the value (i.e. 14 for an ace) and the integer from the inner loop as the suit. This process creates 52 cards – one card for each combination of suit and value. After the method creates the cards, the shuffle method of the shuffle module randomly rearranges the items in the card list; imitating the shuffle of a deck of cards. Our deck has another method called rm_card which removes and returns a card from the card list, or returns None if it is empty.')\n",
    "print('')\n",
    "print('7.Consider a real life situation. Formulate a question and then design a simulation that can help to answer it. Possible situations include:Cars lined up at a car washCustomers at a grocery store check-outAirplanes taking off and landing on a runwayA bank teller ')\n",
    "print('')\n",
    "print('8.Implement a queue using linked lists.')\n",
    "print('')\n",
    "print(' Ans: A linked list (LL) node # to store a queue entry class Node: def __init__(self, data): self.data = data self.next = None # A class to represent a queue # The queue, front stores the front node # of LL and rear stores the last node of LL class Queue: def __init__(self): self.front = self.rear = None def isEmpty(self): return self.front == None # Method to add an item to the queue def EnQueue(self, item): temp = Node(item) if self.rear == None: self.front = self.rear = temp return self.rear.next = temp self.rear = temp # Method to remove an item from queue def DeQueue(self): if self.isEmpty(): return temp = self.front self.front = temp.next if(self.front == None): self.rear = None # Driver Code if _name__== : q = Queue() q.EnQueue(10) q.EnQueue(20) q.DeQueue() q.DeQueue() q.EnQueue(30) q.EnQueue(40) q.EnQueue(50) q.DeQueue() print(\"Queue Front \" + str(q.front.data)) print\"Queue Rear \" + str(q.rear.data))')\n",
    "print('')\n",
    "print('9. Write a recursive function to compute the factorial of a number.')\n",
    "print('')\n",
    "print('Ans: def recur_factorial(n): if n == 1: return n else: return n*recur_factorial(n-1) num = 7 # check if the number is negative if num < 0: print(\"Sorry, factorial does not exist for negative numbers\") elif num == 0: print(\"The factorial of 0 is 1\") else: print(\"The factorial of\", num, \"is\", recur_factorial(num))')\n",
    "print('')\n",
    "print('10. Set up a random experiment to test the difference between a sequential search and a binary search on a list of integers.')\n",
    "print('')\n",
    "print('Ans:.\tWe toss a coin three times and observe the sequence of heads/tails. The sample space here may be defined as S={(H,H,H),(H,H,T),(H,T,H),(T,H,H),(H,T,T),(T,H,T),(T,T,H),(T,T,T)}. Our goal is to assign probability to certain events. For example, suppose that we would like to know the probability that the outcome of rolling a fair die is an even number. In this case, our event is the set E={2,4,6}. If the result of our random experiment belongs to the set E, we say that the event E has occurred. Thus an event is a collection of possible outcomes. In other words, an event is a subset of the sample space to which we assign a probability. Although we have not yet discussed how to find the probability of an event, you might be able to guess that the probability of {2,4,6} is 50 percent which is the same as 12 in the probability theory convention. Outcome: A result of a random experiment. Sample Space: The set of all possible outcomes. Event: A subset of the sample space.')\n",
    "print('')\n",
    "print('11.Suppose you are a computer scientist/art thief who has broken into a major art gallery. All you have with you to haul out your stolen art is your knapsack which only holds W pounds of art, but for every piece of art you know its value and its weight. Write a dynamic programming function to help you maximize your profit. Here is a sample problem for you to use to get started: Suppose your knapsack can hold a total weight of 20. You have 5 items as follows: ')\n",
    "print('')\n",
    "print('This problem is called the string edit distance problem, and is quite useful in many areas of research. Suppose that you want to transform the word “algorithm” into the word “alligator.” For each letter you can either copy the letter from one word to another at a cost of 5, you can delete a letter at cost of 20, or insert a letter at a cost of 20. The total cost to transform one word into another is used by spell check programs to provide suggestions for words that are close to one another.')"
   ]
  },
  {
   "cell_type": "code",
   "execution_count": null,
   "id": "914b0aea",
   "metadata": {},
   "outputs": [],
   "source": []
  },
  {
   "cell_type": "code",
   "execution_count": null,
   "id": "d7b580a8",
   "metadata": {},
   "outputs": [],
   "source": []
  }
 ],
 "metadata": {
  "kernelspec": {
   "display_name": "Python 3",
   "language": "python",
   "name": "python3"
  },
  "language_info": {
   "codemirror_mode": {
    "name": "ipython",
    "version": 3
   },
   "file_extension": ".py",
   "mimetype": "text/x-python",
   "name": "python",
   "nbconvert_exporter": "python",
   "pygments_lexer": "ipython3",
   "version": "3.8.6"
  }
 },
 "nbformat": 4,
 "nbformat_minor": 5
}
